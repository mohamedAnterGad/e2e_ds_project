{
 "cells": [
  {
   "cell_type": "markdown",
   "id": "45c59cf0",
   "metadata": {},
   "source": [
    "## exploring the data"
   ]
  },
  {
   "cell_type": "markdown",
   "id": "65859002",
   "metadata": {},
   "source": [
    "## constants and macros"
   ]
  },
  {
   "cell_type": "code",
   "execution_count": 12,
   "id": "9a7f43d0",
   "metadata": {},
   "outputs": [],
   "source": [
    "DATA_PATH = '../data/raw/survey_results_public.csv'"
   ]
  },
  {
   "cell_type": "markdown",
   "id": "de654594",
   "metadata": {},
   "source": [
    "## imports"
   ]
  },
  {
   "cell_type": "code",
   "execution_count": 14,
   "id": "3b078598",
   "metadata": {},
   "outputs": [],
   "source": [
    "import pandas as pd\n",
    "pd.options.display.max_rows= 1000"
   ]
  },
  {
   "cell_type": "code",
   "execution_count": 31,
   "id": "8a122829",
   "metadata": {},
   "outputs": [
    {
     "data": {
      "text/plain": [
       "(83439, 48)"
      ]
     },
     "execution_count": 31,
     "metadata": {},
     "output_type": "execute_result"
    }
   ],
   "source": [
    "df_raw = pd.read_csv(DATA_PATH)\n",
    "df_raw.shape"
   ]
  },
  {
   "cell_type": "code",
   "execution_count": 37,
   "id": "cdab1d08",
   "metadata": {},
   "outputs": [
    {
     "data": {
      "text/plain": [
       "ResponseId                                                                  13131\n",
       "MainBranch                                         I am a developer by profession\n",
       "Employment                                                     Employed full-time\n",
       "Country                                                                     Spain\n",
       "US_State                                                                      NaN\n",
       "UK_Country                                                                    NaN\n",
       "EdLevel                         Some college/university study without earning ...\n",
       "Age1stCode                                                          18 - 24 years\n",
       "LearnCode                       Other online resources (ex: videos, blogs, etc...\n",
       "YearsCode                                                                      20\n",
       "YearsCodePro                                                                   12\n",
       "DevType                         Developer, desktop or enterprise applications;...\n",
       "OrgSize                                                        10 to 19 employees\n",
       "Currency                                                        EUR European Euro\n",
       "CompTotal                                                                 29000.0\n",
       "CompFreq                                                                   Yearly\n",
       "LanguageHaveWorkedWith             Bash/Shell;HTML/CSS;Java;JavaScript;Python;SQL\n",
       "LanguageWantToWorkWith                  Bash/Shell;HTML/CSS;JavaScript;Python;SQL\n",
       "DatabaseHaveWorkedWith                                          PostgreSQL;SQLite\n",
       "DatabaseWantToWorkWith                                          PostgreSQL;SQLite\n",
       "PlatformHaveWorkedWith                                        DigitalOcean;Heroku\n",
       "PlatformWantToWorkWith                                        DigitalOcean;Heroku\n",
       "WebframeHaveWorkedWith                                     Django;jQuery;React.js\n",
       "WebframeWantToWorkWith                      Django;FastAPI;jQuery;React.js;Vue.js\n",
       "MiscTechHaveWorkedWith                                             Cordova;Pandas\n",
       "MiscTechWantToWorkWith                                             Flutter;Pandas\n",
       "ToolsTechHaveWorkedWith                                        Ansible;Docker;Git\n",
       "ToolsTechWantToWorkWith                                   Ansible;Docker;Flow;Git\n",
       "NEWCollabToolsHaveWorkedWith    Atom;Eclipse;Emacs;IPython/Jupyter;Visual Stud...\n",
       "NEWCollabToolsWantToWorkWith     Emacs;IPython/Jupyter;PyCharm;Visual Studio Code\n",
       "OpSys                                                                 Linux-based\n",
       "NEWStuck                        Call a coworker or friend;Go for a walk or oth...\n",
       "NEWSOSites                                          Stack Overflow;Stack Exchange\n",
       "SOVisitFreq                                                 Daily or almost daily\n",
       "SOAccount                                                                     Yes\n",
       "SOPartFreq                                                   A few times per week\n",
       "SOComm                                                                    Neutral\n",
       "NEWOtherComms                                                                  No\n",
       "Age                                                               35-44 years old\n",
       "Gender                                                                        Man\n",
       "Trans                                                                          No\n",
       "Sexuality                                                 Straight / Heterosexual\n",
       "Ethnicity                                            White or of European descent\n",
       "Accessibility                                                   None of the above\n",
       "MentalHealth                                                    None of the above\n",
       "SurveyLength                                                Appropriate in length\n",
       "SurveyEase                                                                   Easy\n",
       "ConvertedCompYearly                                                       31348.0\n",
       "Name: 13130, dtype: object"
      ]
     },
     "execution_count": 37,
     "metadata": {},
     "output_type": "execute_result"
    }
   ],
   "source": [
    "## see the answers\n",
    "## multiple answers divided by ;\n",
    "## some nulls in the answers \n",
    "## some non important features : ResponseId , \n",
    "# DevType is the target that we want to predict (separated by ,)\n",
    "## employment is separated by ,\n",
    "df_raw.sample(1).iloc[0,:]"
   ]
  },
  {
   "cell_type": "code",
   "execution_count": 33,
   "id": "3f434687",
   "metadata": {},
   "outputs": [
    {
     "data": {
      "text/plain": [
       "83439"
      ]
     },
     "execution_count": 33,
     "metadata": {},
     "output_type": "execute_result"
    }
   ],
   "source": [
    "## this is the id (not important in prediciton)\n",
    "len(df_raw['ResponseId'].unique())"
   ]
  },
  {
   "cell_type": "markdown",
   "id": "a730c074",
   "metadata": {},
   "source": [
    "## exploring the data types of the features"
   ]
  },
  {
   "cell_type": "code",
   "execution_count": 36,
   "id": "bc9b58d9",
   "metadata": {},
   "outputs": [
    {
     "name": "stdout",
     "output_type": "stream",
     "text": [
      "<class 'pandas.core.frame.DataFrame'>\n",
      "RangeIndex: 83439 entries, 0 to 83438\n",
      "Data columns (total 48 columns):\n",
      " #   Column                        Non-Null Count  Dtype  \n",
      "---  ------                        --------------  -----  \n",
      " 0   ResponseId                    83439 non-null  int64  \n",
      " 1   MainBranch                    83439 non-null  object \n",
      " 2   Employment                    83323 non-null  object \n",
      " 3   Country                       83439 non-null  object \n",
      " 4   US_State                      14920 non-null  object \n",
      " 5   UK_Country                    4418 non-null   object \n",
      " 6   EdLevel                       83126 non-null  object \n",
      " 7   Age1stCode                    83243 non-null  object \n",
      " 8   LearnCode                     82963 non-null  object \n",
      " 9   YearsCode                     81641 non-null  object \n",
      " 10  YearsCodePro                  61216 non-null  object \n",
      " 11  DevType                       66484 non-null  object \n",
      " 12  OrgSize                       60726 non-null  object \n",
      " 13  Currency                      61080 non-null  object \n",
      " 14  CompTotal                     47183 non-null  float64\n",
      " 15  CompFreq                      52150 non-null  object \n",
      " 16  LanguageHaveWorkedWith        82357 non-null  object \n",
      " 17  LanguageWantToWorkWith        76821 non-null  object \n",
      " 18  DatabaseHaveWorkedWith        69546 non-null  object \n",
      " 19  DatabaseWantToWorkWith        58299 non-null  object \n",
      " 20  PlatformHaveWorkedWith        52135 non-null  object \n",
      " 21  PlatformWantToWorkWith        41619 non-null  object \n",
      " 22  WebframeHaveWorkedWith        61707 non-null  object \n",
      " 23  WebframeWantToWorkWith        52095 non-null  object \n",
      " 24  MiscTechHaveWorkedWith        47055 non-null  object \n",
      " 25  MiscTechWantToWorkWith        38021 non-null  object \n",
      " 26  ToolsTechHaveWorkedWith       72537 non-null  object \n",
      " 27  ToolsTechWantToWorkWith       65480 non-null  object \n",
      " 28  NEWCollabToolsHaveWorkedWith  81234 non-null  object \n",
      " 29  NEWCollabToolsWantToWorkWith  73022 non-null  object \n",
      " 30  OpSys                         83294 non-null  object \n",
      " 31  NEWStuck                      83052 non-null  object \n",
      " 32  NEWSOSites                    83171 non-null  object \n",
      " 33  SOVisitFreq                   82413 non-null  object \n",
      " 34  SOAccount                     82525 non-null  object \n",
      " 35  SOPartFreq                    67553 non-null  object \n",
      " 36  SOComm                        82319 non-null  object \n",
      " 37  NEWOtherComms                 82828 non-null  object \n",
      " 38  Age                           82407 non-null  object \n",
      " 39  Gender                        82286 non-null  object \n",
      " 40  Trans                         80678 non-null  object \n",
      " 41  Sexuality                     73366 non-null  object \n",
      " 42  Ethnicity                     79464 non-null  object \n",
      " 43  Accessibility                 77603 non-null  object \n",
      " 44  MentalHealth                  76920 non-null  object \n",
      " 45  SurveyLength                  81711 non-null  object \n",
      " 46  SurveyEase                    81948 non-null  object \n",
      " 47  ConvertedCompYearly           46844 non-null  float64\n",
      "dtypes: float64(2), int64(1), object(45)\n",
      "memory usage: 30.6+ MB\n"
     ]
    }
   ],
   "source": [
    "## note that years code and years code pro are objects (string) which is suspicious \n",
    "df_raw.info()"
   ]
  },
  {
   "cell_type": "code",
   "execution_count": 51,
   "id": "0531fc49",
   "metadata": {},
   "outputs": [
    {
     "data": {
      "text/plain": [
       "array(['18 - 24 years', '11 - 17 years', '5 - 10 years', '25 - 34 years',\n",
       "       '35 - 44 years', 'Younger than 5 years', '45 - 54 years',\n",
       "       '55 - 64 years', nan, 'Older than 64 years'], dtype=object)"
      ]
     },
     "execution_count": 51,
     "metadata": {},
     "output_type": "execute_result"
    }
   ],
   "source": [
    "df_raw['YearsCodePro'].unique() # have \"less than one year\" \n",
    "df_raw['Age'].unique() # have \"18 - 24 years old\" \n",
    "df_raw['Age1stCode'].unique() # have \"18 - 24 years old\" "
   ]
  },
  {
   "cell_type": "code",
   "execution_count": 55,
   "id": "2f9fbfb2",
   "metadata": {},
   "outputs": [
    {
     "name": "stdout",
     "output_type": "stream",
     "text": [
      "YearsCodePro\n",
      "[nan, '10', '4', '5', '6', '2', '30', '9', '18', '12', '21', '1', '16', 'Less than 1 year', '15', '3', '35', '7', '8', '17', '14', '26', '25', '20', '50', '34', '11', '24', '22', '13', '31', '23', '39', '41', '27', '28', '19', '33', 'More than 50 years', '37', '29', '32', '43', '40', '38', '45', '42', '46', '36', '44', '47', '48', '49']\n",
      "--------------------------\n",
      "\n",
      "YearsCode\n",
      "[nan, '7', '17', '3', '4', '6', '16', '12', '15', '10', '40', '9', '26', '14', '39', '20', '8', '19', '5', 'Less than 1 year', '22', '2', '1', '34', '21', '13', '25', '24', '30', '31', '18', '38', 'More than 50 years', '27', '41', '42', '35', '23', '28', '11', '37', '44', '43', '36', '33', '45', '29', '50', '46', '32', '47', '49', '48']\n",
      "--------------------------\n",
      "\n",
      "Age1stCode\n",
      "['18 - 24 years', '11 - 17 years', '5 - 10 years', '25 - 34 years', '35 - 44 years', 'Younger than 5 years', '45 - 54 years', '55 - 64 years', nan, 'Older than 64 years']\n",
      "--------------------------\n",
      "\n"
     ]
    }
   ],
   "source": [
    "# Investigate the questionable objects columns\n",
    "questionable_cols = ['YearsCodePro', 'YearsCode', 'Age1stCode']\n",
    "\n",
    "for col in questionable_cols: \n",
    "    print(col)\n",
    "    print(df_raw[col].unique().tolist())\n",
    "    print('--------------------------')\n",
    "    print()"
   ]
  },
  {
   "cell_type": "markdown",
   "id": "eb811f84",
   "metadata": {},
   "source": [
    "## knowing the nulls in the data"
   ]
  },
  {
   "cell_type": "code",
   "execution_count": 48,
   "id": "7e2544a4",
   "metadata": {},
   "outputs": [
    {
     "data": {
      "text/plain": [
       "UK_Country                      79021\n",
       "US_State                        68519\n",
       "MiscTechWantToWorkWith          45418\n",
       "PlatformWantToWorkWith          41820\n",
       "ConvertedCompYearly             36595\n",
       "MiscTechHaveWorkedWith          36384\n",
       "CompTotal                       36256\n",
       "WebframeWantToWorkWith          31344\n",
       "PlatformHaveWorkedWith          31304\n",
       "CompFreq                        31289\n",
       "DatabaseWantToWorkWith          25140\n",
       "OrgSize                         22713\n",
       "Currency                        22359\n",
       "YearsCodePro                    22223\n",
       "WebframeHaveWorkedWith          21732\n",
       "ToolsTechWantToWorkWith         17959\n",
       "DevType                         16955\n",
       "SOPartFreq                      15886\n",
       "DatabaseHaveWorkedWith          13893\n",
       "ToolsTechHaveWorkedWith         10902\n",
       "NEWCollabToolsWantToWorkWith    10417\n",
       "Sexuality                       10073\n",
       "LanguageWantToWorkWith           6618\n",
       "MentalHealth                     6519\n",
       "Accessibility                    5836\n",
       "Ethnicity                        3975\n",
       "Trans                            2761\n",
       "NEWCollabToolsHaveWorkedWith     2205\n",
       "YearsCode                        1798\n",
       "SurveyLength                     1728\n",
       "SurveyEase                       1491\n",
       "Gender                           1153\n",
       "SOComm                           1120\n",
       "LanguageHaveWorkedWith           1082\n",
       "Age                              1032\n",
       "SOVisitFreq                      1026\n",
       "SOAccount                         914\n",
       "NEWOtherComms                     611\n",
       "LearnCode                         476\n",
       "NEWStuck                          387\n",
       "EdLevel                           313\n",
       "NEWSOSites                        268\n",
       "Age1stCode                        196\n",
       "OpSys                             145\n",
       "Employment                        116\n",
       "MainBranch                          0\n",
       "Country                             0\n",
       "ResponseId                          0\n",
       "dtype: int64"
      ]
     },
     "execution_count": 48,
     "metadata": {},
     "output_type": "execute_result"
    }
   ],
   "source": [
    "## wow data is full of nulls !!!\n",
    "df_raw.isna().sum().sort_values(ascending=False)"
   ]
  },
  {
   "cell_type": "code",
   "execution_count": 5,
   "id": "b80d2816",
   "metadata": {},
   "outputs": [
    {
     "data": {
      "text/html": [
       "<div>\n",
       "<style scoped>\n",
       "    .dataframe tbody tr th:only-of-type {\n",
       "        vertical-align: middle;\n",
       "    }\n",
       "\n",
       "    .dataframe tbody tr th {\n",
       "        vertical-align: top;\n",
       "    }\n",
       "\n",
       "    .dataframe thead th {\n",
       "        text-align: right;\n",
       "    }\n",
       "</style>\n",
       "<table border=\"1\" class=\"dataframe\">\n",
       "  <thead>\n",
       "    <tr style=\"text-align: right;\">\n",
       "      <th></th>\n",
       "      <th>Original name</th>\n",
       "      <th>Short name</th>\n",
       "    </tr>\n",
       "  </thead>\n",
       "  <tbody>\n",
       "    <tr>\n",
       "      <th>0</th>\n",
       "      <td>Developer, back-end</td>\n",
       "      <td>Back-end dev</td>\n",
       "    </tr>\n",
       "    <tr>\n",
       "      <th>1</th>\n",
       "      <td>Developer, full-stack</td>\n",
       "      <td>Full-stack dev</td>\n",
       "    </tr>\n",
       "    <tr>\n",
       "      <th>2</th>\n",
       "      <td>Developer, front-end</td>\n",
       "      <td>Front-end dev</td>\n",
       "    </tr>\n",
       "    <tr>\n",
       "      <th>3</th>\n",
       "      <td>Developer, desktop or enterprise applications</td>\n",
       "      <td>Desktop dev</td>\n",
       "    </tr>\n",
       "    <tr>\n",
       "      <th>4</th>\n",
       "      <td>Developer, mobile</td>\n",
       "      <td>Mobile dev</td>\n",
       "    </tr>\n",
       "    <tr>\n",
       "      <th>5</th>\n",
       "      <td>DevOps specialist</td>\n",
       "      <td>DevOps</td>\n",
       "    </tr>\n",
       "    <tr>\n",
       "      <th>6</th>\n",
       "      <td>Database administrator</td>\n",
       "      <td>Database admin</td>\n",
       "    </tr>\n",
       "    <tr>\n",
       "      <th>7</th>\n",
       "      <td>Designer</td>\n",
       "      <td>Designer</td>\n",
       "    </tr>\n",
       "    <tr>\n",
       "      <th>8</th>\n",
       "      <td>System administrator</td>\n",
       "      <td>System admin</td>\n",
       "    </tr>\n",
       "    <tr>\n",
       "      <th>9</th>\n",
       "      <td>Developer, embedded applications or devices</td>\n",
       "      <td>Embedded dev</td>\n",
       "    </tr>\n",
       "    <tr>\n",
       "      <th>10</th>\n",
       "      <td>Data or business analyst</td>\n",
       "      <td>Analyst</td>\n",
       "    </tr>\n",
       "    <tr>\n",
       "      <th>11</th>\n",
       "      <td>Data scientist or machine learning specialist</td>\n",
       "      <td>Data Scientist</td>\n",
       "    </tr>\n",
       "    <tr>\n",
       "      <th>12</th>\n",
       "      <td>Developer, QA or test</td>\n",
       "      <td>Quality Assurance</td>\n",
       "    </tr>\n",
       "    <tr>\n",
       "      <th>13</th>\n",
       "      <td>Engineer, data</td>\n",
       "      <td>Data Engineer</td>\n",
       "    </tr>\n",
       "    <tr>\n",
       "      <th>14</th>\n",
       "      <td>Academic researcher</td>\n",
       "      <td>Researcher</td>\n",
       "    </tr>\n",
       "    <tr>\n",
       "      <th>15</th>\n",
       "      <td>Educator</td>\n",
       "      <td>Educator</td>\n",
       "    </tr>\n",
       "    <tr>\n",
       "      <th>16</th>\n",
       "      <td>Developer, game or graphics</td>\n",
       "      <td>Game dev</td>\n",
       "    </tr>\n",
       "    <tr>\n",
       "      <th>17</th>\n",
       "      <td>Engineering manager</td>\n",
       "      <td>Engineering manager</td>\n",
       "    </tr>\n",
       "    <tr>\n",
       "      <th>18</th>\n",
       "      <td>Product manager</td>\n",
       "      <td>Product manager</td>\n",
       "    </tr>\n",
       "    <tr>\n",
       "      <th>19</th>\n",
       "      <td>Scientist</td>\n",
       "      <td>Scientist</td>\n",
       "    </tr>\n",
       "    <tr>\n",
       "      <th>20</th>\n",
       "      <td>Engineer, site reliability</td>\n",
       "      <td>Site Engineer</td>\n",
       "    </tr>\n",
       "    <tr>\n",
       "      <th>21</th>\n",
       "      <td>Senior executive/VP</td>\n",
       "      <td>Senior Executive</td>\n",
       "    </tr>\n",
       "    <tr>\n",
       "      <th>22</th>\n",
       "      <td>Marketing or sales professional</td>\n",
       "      <td>Marketing/Sales</td>\n",
       "    </tr>\n",
       "  </tbody>\n",
       "</table>\n",
       "</div>"
      ],
      "text/plain": [
       "                                    Original name          Short name \n",
       "0                             Developer, back-end         Back-end dev\n",
       "1                           Developer, full-stack       Full-stack dev\n",
       "2                            Developer, front-end        Front-end dev\n",
       "3   Developer, desktop or enterprise applications          Desktop dev\n",
       "4                               Developer, mobile           Mobile dev\n",
       "5                               DevOps specialist               DevOps\n",
       "6                          Database administrator       Database admin\n",
       "7                                        Designer             Designer\n",
       "8                            System administrator         System admin\n",
       "9     Developer, embedded applications or devices         Embedded dev\n",
       "10                       Data or business analyst              Analyst\n",
       "11  Data scientist or machine learning specialist      Data Scientist \n",
       "12                          Developer, QA or test    Quality Assurance\n",
       "13                                 Engineer, data        Data Engineer\n",
       "14                            Academic researcher           Researcher\n",
       "15                                       Educator             Educator\n",
       "16                    Developer, game or graphics             Game dev\n",
       "17                            Engineering manager  Engineering manager\n",
       "18                                Product manager      Product manager\n",
       "19                                      Scientist            Scientist\n",
       "20                     Engineer, site reliability        Site Engineer\n",
       "21                            Senior executive/VP     Senior Executive\n",
       "22                Marketing or sales professional      Marketing/Sales"
      ]
     },
     "execution_count": 5,
     "metadata": {},
     "output_type": "execute_result"
    }
   ],
   "source": [
    "df_short_names = pd.read_csv('../data/raw/roles_short_names.csv',sep=';')"
   ]
  },
  {
   "cell_type": "markdown",
   "id": "61831ecf",
   "metadata": {},
   "source": [
    "### tasks to be done:\n",
    "- replace string values in years \n",
    "- split the multiple answers\n",
    "- sparate employment type (,)\n",
    "- dev type (target) separation (,)\n",
    "- replace target with short name"
   ]
  },
  {
   "cell_type": "code",
   "execution_count": null,
   "id": "952301ba",
   "metadata": {},
   "outputs": [],
   "source": []
  }
 ],
 "metadata": {
  "kernelspec": {
   "display_name": "Python 3",
   "language": "python",
   "name": "python3"
  },
  "language_info": {
   "codemirror_mode": {
    "name": "ipython",
    "version": 3
   },
   "file_extension": ".py",
   "mimetype": "text/x-python",
   "name": "python",
   "nbconvert_exporter": "python",
   "pygments_lexer": "ipython3",
   "version": "3.8.8"
  }
 },
 "nbformat": 4,
 "nbformat_minor": 5
}
